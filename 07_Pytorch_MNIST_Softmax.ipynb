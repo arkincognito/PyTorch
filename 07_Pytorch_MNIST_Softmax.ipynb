{
  "nbformat": 4,
  "nbformat_minor": 0,
  "metadata": {
    "colab": {
      "name": "07_Pytorch_MNIST_Softmax.ipynb",
      "provenance": [],
      "collapsed_sections": [],
      "authorship_tag": "ABX9TyPKZdO7aK5VLmW43mh1abFO",
      "include_colab_link": true
    },
    "kernelspec": {
      "name": "python3",
      "display_name": "Python 3"
    },
    "accelerator": "GPU"
  },
  "cells": [
    {
      "cell_type": "markdown",
      "metadata": {
        "id": "view-in-github",
        "colab_type": "text"
      },
      "source": [
        "<a href=\"https://colab.research.google.com/github/arkincognito/PyTorch/blob/main/07_Pytorch_MNIST_Softmax.ipynb\" target=\"_parent\"><img src=\"https://colab.research.google.com/assets/colab-badge.svg\" alt=\"Open In Colab\"/></a>"
      ]
    },
    {
      "cell_type": "code",
      "metadata": {
        "id": "NxSOvah82pBh"
      },
      "source": [
        "import torch\n",
        "import torchvision.datasets as dsets\n",
        "import torchvision.transforms as transforms\n",
        "import torch.nn as nn\n",
        "import torch.nn.functional as F\n",
        "import matplotlib.pyplot as plt\n",
        "import random"
      ],
      "execution_count": null,
      "outputs": []
    },
    {
      "cell_type": "code",
      "metadata": {
        "id": "h9ZRUNLX3C4G"
      },
      "source": [
        "device = 'cuda' if torch.cuda.is_available() else 'cpu'\n",
        "\n",
        "# for reproducibility\n",
        "random.seed(13)\n",
        "torch.manual_seed(13)\n",
        "if device == 'cuda':\n",
        "    torch.cuda.manual_seed_all(13)"
      ],
      "execution_count": null,
      "outputs": []
    },
    {
      "cell_type": "code",
      "metadata": {
        "id": "H9sYSI814CZA"
      },
      "source": [
        "# MNIST dataset\n",
        "# Note that ToTensor() scales input range from [0,255] to [0.0,1.0].\n",
        "mnist_train = dsets.MNIST(root='MNIST_data/',\n",
        "                          train=True,\n",
        "                          transform=transforms.ToTensor(),\n",
        "                          download=True)\n",
        "\n",
        "mnist_test = dsets.MNIST(root='MNIST_data/',\n",
        "                         train=False,\n",
        "                         transform=transforms.ToTensor(),\n",
        "                         download=True)"
      ],
      "execution_count": null,
      "outputs": []
    },
    {
      "cell_type": "code",
      "metadata": {
        "id": "U3hhh3zu3H17"
      },
      "source": [
        "# Hyper Parameters\n",
        "training_epochs = 15\n",
        "batch_size = 16\n",
        "lr = 0.2"
      ],
      "execution_count": null,
      "outputs": []
    },
    {
      "cell_type": "code",
      "metadata": {
        "id": "MLizPQag4MMi"
      },
      "source": [
        "# dataset loader\n",
        "data_loader = torch.utils.data.DataLoader(dataset=mnist_train,\n",
        "                                          batch_size=batch_size,\n",
        "                                          shuffle=True,\n",
        "                                          drop_last=True)"
      ],
      "execution_count": null,
      "outputs": []
    },
    {
      "cell_type": "code",
      "metadata": {
        "id": "edA7dsPn4UAN"
      },
      "source": [
        "class SoftmaxClassifier(nn.Module):\n",
        "  def __init__(self):\n",
        "    super().__init__()\n",
        "    # 4 input parameter, 3 classes\n",
        "    self.linear = nn.Linear(784, 10, bias=True).to(device)\n",
        "\n",
        "  def forward(self, x):\n",
        "    return self.linear(x)\n",
        "\n",
        "model = SoftmaxClassifier()"
      ],
      "execution_count": null,
      "outputs": []
    },
    {
      "cell_type": "code",
      "metadata": {
        "id": "dTMHD42k5jJx"
      },
      "source": [
        "# define cost/loss & optimizer\n",
        "criterion = torch.nn.CrossEntropyLoss().to(device)    # Softmax is internally computed.\n",
        "optimizer = torch.optim.SGD(model.parameters(), lr=lr)"
      ],
      "execution_count": null,
      "outputs": []
    },
    {
      "cell_type": "code",
      "metadata": {
        "colab": {
          "base_uri": "https://localhost:8080/"
        },
        "id": "Gb2geNVp5xbM",
        "outputId": "3842359e-d231-4ee3-c6c0-2e4e64c8a147"
      },
      "source": [
        "for epoch in range(training_epochs+1):\n",
        "    avg_cost = 0\n",
        "    total_batch = len(data_loader)\n",
        "\n",
        "    for  x, y in data_loader:\n",
        "        # reshape input image into [batch_size by 784]\n",
        "        # label is not one-hot encoded\n",
        "        x = x.view(-1, 28 * 28).to(device)\n",
        "        y = y.to(device)\n",
        "\n",
        "        hypothesis = model(x)\n",
        "        cost = criterion(hypothesis, y)\n",
        "\n",
        "        # Initialize all the gradients to zero\n",
        "        optimizer.zero_grad()\n",
        "        # Backward Propagation\n",
        "        cost.backward()\n",
        "        # Update\n",
        "        optimizer.step()\n",
        "\n",
        "        avg_cost += cost / total_batch\n",
        "\n",
        "    print(f'Epoch: {epoch:4d}/{training_epochs:4d}\\tcost = {avg_cost:.9f}')\n",
        "\n",
        "print('Learning finished')"
      ],
      "execution_count": null,
      "outputs": [
        {
          "output_type": "stream",
          "text": [
            "Epoch:    0/  15\tcost = 0.363722026\n",
            "Epoch:    1/  15\tcost = 0.306284696\n",
            "Epoch:    2/  15\tcost = 0.297355711\n",
            "Epoch:    3/  15\tcost = 0.291569918\n",
            "Epoch:    4/  15\tcost = 0.287008166\n",
            "Epoch:    5/  15\tcost = 0.284205228\n",
            "Epoch:    6/  15\tcost = 0.280898720\n",
            "Epoch:    7/  15\tcost = 0.278865159\n",
            "Epoch:    8/  15\tcost = 0.276334971\n",
            "Epoch:    9/  15\tcost = 0.275651038\n",
            "Epoch:   10/  15\tcost = 0.274451375\n",
            "Epoch:   11/  15\tcost = 0.272695243\n",
            "Epoch:   12/  15\tcost = 0.272442788\n",
            "Epoch:   13/  15\tcost = 0.270810992\n",
            "Epoch:   14/  15\tcost = 0.270295292\n",
            "Epoch:   15/  15\tcost = 0.270354211\n",
            "Learning finished\n"
          ],
          "name": "stdout"
        }
      ]
    },
    {
      "cell_type": "code",
      "metadata": {
        "colab": {
          "base_uri": "https://localhost:8080/",
          "height": 319
        },
        "id": "7rDe_szO6bLz",
        "outputId": "4c3bff4c-afb1-4fba-cd90-d1a66aa1f31c"
      },
      "source": [
        "# Test the model using test sets\n",
        "with torch.no_grad(): # Indicates that gradients will not be calculated\n",
        "    x_test = mnist_test.data.view(-1, 28 * 28).float().to(device)\n",
        "    y_test = mnist_test.targets.to(device)\n",
        "    # Take Argmax of softmax to predict the class\n",
        "    #prediction = model(x_test).max(dim=1)[1]\n",
        "    prediction = torch.argmax(model(x_test), 1)\n",
        "    accuracy = (prediction == y_test).float().mean()\n",
        "    print('Accuracy:', accuracy.item())\n",
        "\n",
        "    # Get one and predict\n",
        "    r = random.randint(0, len(mnist_test) - 1)\n",
        "    x_single_data = mnist_test.data[r].view(-1, 28 * 28).float().to(device)\n",
        "    y_single_data = mnist_test.targets[r].to(device)\n",
        "\n",
        "    print('Label: ', y_single_data.item())\n",
        "    single_prediction = model(x_single_data)\n",
        "    print('Prediction: ', torch.argmax(single_prediction, 1).item())\n",
        "\n",
        "    plt.imshow(mnist_test.data[r].view(28, 28), cmap='Greys', interpolation='nearest')\n",
        "    plt.show()"
      ],
      "execution_count": null,
      "outputs": [
        {
          "output_type": "stream",
          "text": [
            "Accuracy: 0.8662999868392944\n",
            "Label:  6\n",
            "Prediction:  6\n"
          ],
          "name": "stdout"
        },
        {
          "output_type": "display_data",
          "data": {
            "image/png": "[encoded data removed]",
            "text/plain": [
              "<Figure size 432x288 with 1 Axes>"
            ]
          },
          "metadata": {
            "tags": [],
            "needs_background": "light"
          }
        }
      ]
    }
  ]
}