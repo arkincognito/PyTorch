{
  "nbformat": 4,
  "nbformat_minor": 0,
  "metadata": {
    "colab": {
      "name": "01_Pytorch_Tensor_Manipulation.ipynb",
      "provenance": [],
      "collapsed_sections": [],
      "authorship_tag": "ABX9TyOsPkwqdYTlVbRWUClMhBpy",
      "include_colab_link": true
    },
    "kernelspec": {
      "name": "python3",
      "display_name": "Python 3"
    }
  },
  "cells": [
    {
      "cell_type": "markdown",
      "metadata": {
        "id": "view-in-github",
        "colab_type": "text"
      },
      "source": [
        "<a href=\"https://colab.research.google.com/github/arkincognito/PyTorch/blob/main/01_Pytorch_Tensor_Manipulation.ipynb\" target=\"_parent\"><img src=\"https://colab.research.google.com/assets/colab-badge.svg\" alt=\"Open In Colab\"/></a>"
      ]
    },
    {
      "cell_type": "code",
      "metadata": {
        "id": "Bn8n4I_78s-b"
      },
      "source": [
        "import torch\n",
        "import numpy as np"
      ],
      "execution_count": null,
      "outputs": []
    },
    {
      "cell_type": "markdown",
      "metadata": {
        "id": "_Z3qlGmBcxm1"
      },
      "source": [
        "# Device Setup"
      ]
    },
    {
      "cell_type": "code",
      "metadata": {
        "id": "qSCOHFkndNS-"
      },
      "source": [
        "device = torch.device(\"cuda\")\n",
        "model = TheModelClass(*args, **kwargs)\n",
        "# 사용할 GPU 장치 번호를 선택합니다. \n",
        "model.load_state_dict(torch.load(PATH, map_location=\"cuda:0\")) \n",
        "model.to(device) # 모델에서 사용하는 input Tensor들은 input = input.to(device) 을 호출해야 합니다."
      ],
      "execution_count": null,
      "outputs": []
    },
    {
      "cell_type": "markdown",
      "metadata": {
        "id": "RfdjG4-b9aSU"
      },
      "source": [
        "#Tensor manipulation"
      ]
    },
    {
      "cell_type": "markdown",
      "metadata": {
        "id": "peORa7Ao9grv"
      },
      "source": [
        "## 1D Tensor"
      ]
    },
    {
      "cell_type": "code",
      "metadata": {
        "id": "RQq9Kk199VmI"
      },
      "source": [
        "t1 = torch.FloatTensor([1., 2., 3., 4., 5., 6.])"
      ],
      "execution_count": null,
      "outputs": []
    },
    {
      "cell_type": "code",
      "metadata": {
        "colab": {
          "base_uri": "https://localhost:8080/"
        },
        "id": "l0Yrry719tGZ",
        "outputId": "a9be8f13-a330-45b9-d0b1-633a3514a6b4"
      },
      "source": [
        "print(t1.dim()) #Dimension\n",
        "print(t1.size()) #Size\n",
        "print(t1.shape) #Size\n",
        "print(t1[:2]) #Slicing\n",
        "print(t1[::2]) #Slicing\n",
        "# print(t[-1::-1]) #This doesn't work\n",
        "print(t1[0], t1[1], t1[2]) #Index"
      ],
      "execution_count": null,
      "outputs": [
        {
          "output_type": "stream",
          "text": [
            "1\n",
            "torch.Size([6])\n",
            "torch.Size([6])\n",
            "tensor([1., 2.])\n",
            "tensor([1., 3., 5.])\n",
            "tensor(1.) tensor(2.) tensor(3.)\n"
          ],
          "name": "stdout"
        }
      ]
    },
    {
      "cell_type": "markdown",
      "metadata": {
        "id": "1TqvGEuKT934"
      },
      "source": [
        "t[-1::-1] doesn't work in Pytorch. Python list takes negative values for strides, but Pytorch doesn't"
      ]
    },
    {
      "cell_type": "code",
      "metadata": {
        "colab": {
          "base_uri": "https://localhost:8080/"
        },
        "id": "wPJZW7k6-BR9",
        "outputId": "70429e21-2949-43a5-8485-aba707c3c708"
      },
      "source": [
        "arr = [1., 2., 3., 4., 5., 6.]\n",
        "arr[-1::-1]"
      ],
      "execution_count": null,
      "outputs": [
        {
          "output_type": "execute_result",
          "data": {
            "text/plain": [
              "[6.0, 5.0, 4.0, 3.0, 2.0, 1.0]"
            ]
          },
          "metadata": {
            "tags": []
          },
          "execution_count": 4
        }
      ]
    },
    {
      "cell_type": "markdown",
      "metadata": {
        "id": "Ed0dH_IdT6RB"
      },
      "source": [
        "##2D Tensor"
      ]
    },
    {
      "cell_type": "code",
      "metadata": {
        "id": "fM0OEMS6-355"
      },
      "source": [
        "t2 = torch.FloatTensor([[0., 1., 2.],\n",
        "                       [3., 4., 5.],\n",
        "                       [6., 7., 8.],\n",
        "                       [9., 1.1, 1.2]])"
      ],
      "execution_count": null,
      "outputs": []
    },
    {
      "cell_type": "code",
      "metadata": {
        "colab": {
          "base_uri": "https://localhost:8080/"
        },
        "id": "fupTo8QeALGQ",
        "outputId": "25616901-7f24-460c-e022-5738e9adf1d6"
      },
      "source": [
        "print(t2.dim()) #Dimension\n",
        "print(t2.size()) #Size\n",
        "print(t2.shape) #Size\n",
        "print(t2[:2]) #Slicing\n",
        "print(t2[::2]) #Slicing\n",
        "print(t2[2][:-1])\n",
        "print(t2[:-1][1])\n",
        "print(t2[0], t2[1], t2[2][1]) #Index"
      ],
      "execution_count": null,
      "outputs": [
        {
          "output_type": "stream",
          "text": [
            "2\n",
            "torch.Size([4, 3])\n",
            "torch.Size([4, 3])\n",
            "tensor([[0., 1., 2.],\n",
            "        [3., 4., 5.]])\n",
            "tensor([[0., 1., 2.],\n",
            "        [6., 7., 8.]])\n",
            "tensor([6., 7.])\n",
            "tensor([3., 4., 5.])\n",
            "tensor([0., 1., 2.]) tensor([3., 4., 5.]) tensor(7.)\n"
          ],
          "name": "stdout"
        }
      ]
    },
    {
      "cell_type": "markdown",
      "metadata": {
        "id": "4AziO0gnT3Fi"
      },
      "source": [
        "#Broadcasting"
      ]
    },
    {
      "cell_type": "markdown",
      "metadata": {
        "id": "RhRgKJesXAaW"
      },
      "source": [
        "## Vectors of same Shape"
      ]
    },
    {
      "cell_type": "code",
      "metadata": {
        "id": "LYTdwHVLAPKO",
        "colab": {
          "base_uri": "https://localhost:8080/"
        },
        "outputId": "00736595-18a9-423d-8386-8b14407a9c42"
      },
      "source": [
        "t1 = torch.FloatTensor([1,2])\n",
        "t2 = torch.FloatTensor([3,4])\n",
        "t1+t2"
      ],
      "execution_count": null,
      "outputs": [
        {
          "output_type": "execute_result",
          "data": {
            "text/plain": [
              "tensor([4., 6.])"
            ]
          },
          "metadata": {
            "tags": []
          },
          "execution_count": 7
        }
      ]
    },
    {
      "cell_type": "markdown",
      "metadata": {
        "id": "wFIt4TGfW8cs"
      },
      "source": [
        "## Vector + Scalar"
      ]
    },
    {
      "cell_type": "code",
      "metadata": {
        "colab": {
          "base_uri": "https://localhost:8080/"
        },
        "id": "7UBI1j_bV1Kh",
        "outputId": "750e6932-b41d-4e3f-8bd1-31ffdbdfbfce"
      },
      "source": [
        "t1 = torch.FloatTensor([1,2])\n",
        "t2 = torch.FloatTensor([3])\n",
        "t1+t2"
      ],
      "execution_count": null,
      "outputs": [
        {
          "output_type": "execute_result",
          "data": {
            "text/plain": [
              "tensor([4., 5.])"
            ]
          },
          "metadata": {
            "tags": []
          },
          "execution_count": 8
        }
      ]
    },
    {
      "cell_type": "markdown",
      "metadata": {
        "id": "L7gWYRZ_XGy0"
      },
      "source": [
        "## Vectors of same Dimension"
      ]
    },
    {
      "cell_type": "code",
      "metadata": {
        "colab": {
          "base_uri": "https://localhost:8080/"
        },
        "id": "zgUvsB-eVr9P",
        "outputId": "7a1dca45-702b-4a27-f62f-e27c22574a2f"
      },
      "source": [
        "t1 = torch.FloatTensor([[1,2,3]])\n",
        "t2 = torch.FloatTensor([[3],[4]])\n",
        "print(t1.shape)\n",
        "print(t2.shape)\n",
        "print(t1+t2)"
      ],
      "execution_count": null,
      "outputs": [
        {
          "output_type": "stream",
          "text": [
            "torch.Size([1, 3])\n",
            "torch.Size([2, 1])\n",
            "tensor([[4., 5., 6.],\n",
            "        [5., 6., 7.]])\n"
          ],
          "name": "stdout"
        }
      ]
    },
    {
      "cell_type": "markdown",
      "metadata": {
        "id": "cOyk9AISYtkk"
      },
      "source": [
        "Last ojperate broadcasts the shape [1,3] and [2,1] into [2,3], [2,3]."
      ]
    },
    {
      "cell_type": "markdown",
      "metadata": {
        "id": "7iXAa6tKF2SH"
      },
      "source": [
        "#Multiplication vs Matrix Multiplication"
      ]
    },
    {
      "cell_type": "code",
      "metadata": {
        "id": "fUj4JpJ5YTDF",
        "colab": {
          "base_uri": "https://localhost:8080/"
        },
        "outputId": "9575ebf3-6985-442f-86f0-8afed53256cc"
      },
      "source": [
        "t1 = torch.FloatTensor([[1,2]]) #shape [1,2] -> broadcast into [2,2]\n",
        "t2 = torch.FloatTensor([[3],[4]]) #shape [2,1] -> broadcast into [2,2]\n",
        "print(t1.mul(t2)) # Element-wise Multiplication\n",
        "print(t1*t2) # Element-wise Multiplication"
      ],
      "execution_count": null,
      "outputs": [
        {
          "output_type": "stream",
          "text": [
            "tensor([[3., 6.],\n",
            "        [4., 8.]])\n",
            "tensor([[3., 6.],\n",
            "        [4., 8.]])\n"
          ],
          "name": "stdout"
        }
      ]
    },
    {
      "cell_type": "markdown",
      "metadata": {
        "id": "mLReZvFTGubu"
      },
      "source": [
        "$m1 = \n",
        "\\begin{pmatrix}\n",
        "1 & 2\\\\\n",
        "\\end{pmatrix},\\space\n",
        "m2 = \\begin{pmatrix}\n",
        "3 \\\\\n",
        "4 \\\\\n",
        "\\end{pmatrix}\n",
        "$\n",
        "<br><br>\n",
        "m1.mul(m2) broadcasts m1 and m2 into <br><br>\n",
        "$m1 = \n",
        "\\begin{pmatrix}\n",
        "1 & 2\\\\\n",
        "1 & 2\\\\\n",
        "\\end{pmatrix},\\space\n",
        "m2 = \\begin{pmatrix}\n",
        "3 & 3\\\\\n",
        "4 & 4\\\\\n",
        "\\end{pmatrix}\n",
        "$\n",
        "<br><br>\n",
        "and does element-wise multiplication resulting in <br><br>\n",
        "$m1.mul(m2) = \n",
        "\\begin{pmatrix}\n",
        "3 & 6\\\\4 & 8\\\\\n",
        "\\end{pmatrix}\n",
        "$"
      ]
    },
    {
      "cell_type": "code",
      "metadata": {
        "colab": {
          "base_uri": "https://localhost:8080/"
        },
        "id": "MUoMt6COGF6f",
        "outputId": "ba172a15-3782-4c07-8af7-209e77472478"
      },
      "source": [
        "t1 = torch.FloatTensor([[1,2]]) #shape [1,2]\n",
        "t2 = torch.FloatTensor([[3],[4]]) #shape [2,1]\n",
        "print(t1.matmul(t2)) # Matrix Multiplication\n",
        "print(t1.mm(t2)) # Matrix Multiplication"
      ],
      "execution_count": null,
      "outputs": [
        {
          "output_type": "stream",
          "text": [
            "tensor([[11.]])\n",
            "tensor([[11.]])\n"
          ],
          "name": "stdout"
        }
      ]
    },
    {
      "cell_type": "markdown",
      "metadata": {
        "id": "8n2rptXRKFsQ"
      },
      "source": [
        "$m1 = \n",
        "\\begin{pmatrix}\n",
        "1 & 2\\\\\n",
        "\\end{pmatrix},\\space\n",
        "m2 = \\begin{pmatrix}\n",
        "3 \\\\\n",
        "4 \\\\\n",
        "\\end{pmatrix}\n",
        "$\n",
        "<br><br>\n",
        "$m1.matmul(m2) = m1\\times m2\n",
        "= \\begin{pmatrix}\n",
        "1 \\times 3 + 2 \\times 4\n",
        "\\end{pmatrix}\n",
        "=\n",
        "\\begin{pmatrix}\n",
        "3 + 8\n",
        "\\end{pmatrix}\n",
        "=\n",
        "\\begin{pmatrix}\n",
        "11\n",
        "\\end{pmatrix}\n",
        "$"
      ]
    },
    {
      "cell_type": "markdown",
      "metadata": {
        "id": "9JOuL9SqMt5U"
      },
      "source": [
        "#Mean"
      ]
    },
    {
      "cell_type": "code",
      "metadata": {
        "id": "EyXguQa4Gjzc",
        "colab": {
          "base_uri": "https://localhost:8080/"
        },
        "outputId": "427f9d01-e9b9-4f41-a3ff-731b2fa0f487"
      },
      "source": [
        "t = torch.FloatTensor([[[1,2], [3,4]],[[5,6],[7,8]],[[9,10],[11,12]]])\n",
        "print(t.mean())\n",
        "print(t.mean(dim=0)) #Mean by 0th dimension\n",
        "print(t.mean(dim=1)) #Mean by 1st dimension\n",
        "print(t.mean(dim=-1)) #Mean by last dimension"
      ],
      "execution_count": null,
      "outputs": [
        {
          "output_type": "stream",
          "text": [
            "tensor(6.5000)\n",
            "tensor([[5., 6.],\n",
            "        [7., 8.]])\n",
            "tensor([[ 2.,  3.],\n",
            "        [ 6.,  7.],\n",
            "        [10., 11.]])\n",
            "tensor([[ 1.5000,  3.5000],\n",
            "        [ 5.5000,  7.5000],\n",
            "        [ 9.5000, 11.5000]])\n"
          ],
          "name": "stdout"
        }
      ]
    },
    {
      "cell_type": "markdown",
      "metadata": {
        "id": "J_JKp5_-4-XX"
      },
      "source": [
        "#Sum"
      ]
    },
    {
      "cell_type": "code",
      "metadata": {
        "id": "sPPhuCyyM-10",
        "colab": {
          "base_uri": "https://localhost:8080/"
        },
        "outputId": "69d889ba-d33c-4668-93eb-d3b42fa7b502"
      },
      "source": [
        "t = torch.FloatTensor([[[1,2], [3,4]],\n",
        "                       [[5,6], [7,8]],\n",
        "                       [[9,10],[11,12]]\n",
        "                       ])\n",
        "print(t.sum())\n",
        "print(t.sum(dim=0)) #Sum by 0th dimension\n",
        "print(t.sum(dim=1)) #Sum by 1st dimension\n",
        "print(t.sum(dim=-1)) #Sum by last dimension"
      ],
      "execution_count": null,
      "outputs": [
        {
          "output_type": "stream",
          "text": [
            "tensor(78.)\n",
            "tensor([[15., 18.],\n",
            "        [21., 24.]])\n",
            "tensor([[ 4.,  6.],\n",
            "        [12., 14.],\n",
            "        [20., 22.]])\n",
            "tensor([[ 3.,  7.],\n",
            "        [11., 15.],\n",
            "        [19., 23.]])\n"
          ],
          "name": "stdout"
        }
      ]
    },
    {
      "cell_type": "markdown",
      "metadata": {
        "id": "A6TYBhxRXXqJ"
      },
      "source": [
        "# Max & Argmax"
      ]
    },
    {
      "cell_type": "code",
      "metadata": {
        "id": "oQSdjuziTTn2",
        "colab": {
          "base_uri": "https://localhost:8080/"
        },
        "outputId": "28712b2a-d3ea-41ab-ddc0-debb077cb05b"
      },
      "source": [
        "t = torch.FloatTensor([[1,2], [4,3]])\n",
        "print(t.max()) #Max on the whole tensor\n",
        "print(t.max(dim=0)) #Max on 0th dimension. Returns max and argmax\n",
        "print(t.max(dim=1)) #Max on 1th dimension. Returns max and argmax"
      ],
      "execution_count": null,
      "outputs": [
        {
          "output_type": "stream",
          "text": [
            "tensor(4.)\n",
            "torch.return_types.max(\n",
            "values=tensor([4., 3.]),\n",
            "indices=tensor([1, 1]))\n",
            "torch.return_types.max(\n",
            "values=tensor([2., 4.]),\n",
            "indices=tensor([1, 0]))\n"
          ],
          "name": "stdout"
        }
      ]
    },
    {
      "cell_type": "markdown",
      "metadata": {
        "id": "K9g3-m63XiCj"
      },
      "source": [
        "# View(Reshape)"
      ]
    },
    {
      "cell_type": "code",
      "metadata": {
        "id": "pJYNQtz0TXeb",
        "colab": {
          "base_uri": "https://localhost:8080/"
        },
        "outputId": "39ae06c5-425c-4fac-84d6-0576005586db"
      },
      "source": [
        "t = np.array([[[1,2], [3,4]],\n",
        "              [[5,6], [7,8]],\n",
        "              [[9,10],[11,12]]\n",
        "              ])\n",
        "ft = torch.FloatTensor(t)\n",
        "ft.shape"
      ],
      "execution_count": null,
      "outputs": [
        {
          "output_type": "execute_result",
          "data": {
            "text/plain": [
              "torch.Size([3, 2, 2])"
            ]
          },
          "metadata": {
            "tags": []
          },
          "execution_count": 15
        }
      ]
    },
    {
      "cell_type": "code",
      "metadata": {
        "id": "yZbpcldHYLzJ",
        "colab": {
          "base_uri": "https://localhost:8080/"
        },
        "outputId": "89c90e6f-a008-4a33-a904-ae411ff63fb5"
      },
      "source": [
        "print(ft.view(-1,2))\n",
        "print(ft.view(-1,2).shape)"
      ],
      "execution_count": null,
      "outputs": [
        {
          "output_type": "stream",
          "text": [
            "tensor([[ 1.,  2.],\n",
            "        [ 3.,  4.],\n",
            "        [ 5.,  6.],\n",
            "        [ 7.,  8.],\n",
            "        [ 9., 10.],\n",
            "        [11., 12.]])\n",
            "torch.Size([6, 2])\n"
          ],
          "name": "stdout"
        }
      ]
    },
    {
      "cell_type": "code",
      "metadata": {
        "id": "ahUCcGdiYQuL",
        "colab": {
          "base_uri": "https://localhost:8080/"
        },
        "outputId": "dfd41745-8355-4022-ca08-f1dbb523a580"
      },
      "source": [
        "print(ft.view(-1, 2, 3))\n",
        "print(ft.view(-1, 2, 3).shape)"
      ],
      "execution_count": null,
      "outputs": [
        {
          "output_type": "stream",
          "text": [
            "tensor([[[ 1.,  2.,  3.],\n",
            "         [ 4.,  5.,  6.]],\n",
            "\n",
            "        [[ 7.,  8.,  9.],\n",
            "         [10., 11., 12.]]])\n",
            "torch.Size([2, 2, 3])\n"
          ],
          "name": "stdout"
        }
      ]
    },
    {
      "cell_type": "markdown",
      "metadata": {
        "id": "QYvtbVTaZod6"
      },
      "source": [
        "#Squeeze(Flatten)\n",
        "If the dimension length is 1, then squeeze out the dimension."
      ]
    },
    {
      "cell_type": "code",
      "metadata": {
        "id": "QgIOZpVFYeF-",
        "colab": {
          "base_uri": "https://localhost:8080/"
        },
        "outputId": "ec568fbb-d28f-4c16-d430-9bdd2e238da2"
      },
      "source": [
        "ft = torch.FloatTensor([[0], [1], [2]])\n",
        "print(ft)\n",
        "print(ft.shape)"
      ],
      "execution_count": null,
      "outputs": [
        {
          "output_type": "stream",
          "text": [
            "tensor([[0.],\n",
            "        [1.],\n",
            "        [2.]])\n",
            "torch.Size([3, 1])\n"
          ],
          "name": "stdout"
        }
      ]
    },
    {
      "cell_type": "code",
      "metadata": {
        "id": "O1dsHjgaZ-10",
        "colab": {
          "base_uri": "https://localhost:8080/"
        },
        "outputId": "bf22c192-fe94-429d-aeb9-9af4bf8bc24a"
      },
      "source": [
        "print(ft.squeeze())\n",
        "print(ft.squeeze().shape)"
      ],
      "execution_count": null,
      "outputs": [
        {
          "output_type": "stream",
          "text": [
            "tensor([0., 1., 2.])\n",
            "torch.Size([3])\n"
          ],
          "name": "stdout"
        }
      ]
    },
    {
      "cell_type": "code",
      "metadata": {
        "id": "p4QIdX6XaDfW",
        "colab": {
          "base_uri": "https://localhost:8080/"
        },
        "outputId": "3c432fab-dca9-4a32-bb22-09a3fb389749"
      },
      "source": [
        "ft = torch.FloatTensor([[0,1],[2,3],[4,5]])\n",
        "print(ft.shape)\n",
        "print(ft.squeeze())\n",
        "print(ft.squeeze().shape)"
      ],
      "execution_count": null,
      "outputs": [
        {
          "output_type": "stream",
          "text": [
            "torch.Size([3, 2])\n",
            "tensor([[0., 1.],\n",
            "        [2., 3.],\n",
            "        [4., 5.]])\n",
            "torch.Size([3, 2])\n"
          ],
          "name": "stdout"
        }
      ]
    },
    {
      "cell_type": "code",
      "metadata": {
        "id": "j3hi5jytaMfa",
        "colab": {
          "base_uri": "https://localhost:8080/"
        },
        "outputId": "b99bd546-708b-44de-8704-cb7158b58f6f"
      },
      "source": [
        "ft = torch.FloatTensor([[[0]],[[1]],[[2]]])\n",
        "print(ft.shape)\n",
        "print(ft.squeeze())\n",
        "print(ft.squeeze().shape)"
      ],
      "execution_count": null,
      "outputs": [
        {
          "output_type": "stream",
          "text": [
            "torch.Size([3, 1, 1])\n",
            "tensor([0., 1., 2.])\n",
            "torch.Size([3])\n"
          ],
          "name": "stdout"
        }
      ]
    },
    {
      "cell_type": "code",
      "metadata": {
        "id": "vBcObrdHbGju",
        "colab": {
          "base_uri": "https://localhost:8080/"
        },
        "outputId": "64ee33e4-bf59-4541-bdb6-a8f7861aa9c2"
      },
      "source": [
        "ft = torch.FloatTensor([[[0]],[[1]],[[2]]])\n",
        "print(ft.shape)\n",
        "print(ft.squeeze(dim=2))\n",
        "print(ft.squeeze(dim=2).shape)"
      ],
      "execution_count": null,
      "outputs": [
        {
          "output_type": "stream",
          "text": [
            "torch.Size([3, 1, 1])\n",
            "tensor([[0.],\n",
            "        [1.],\n",
            "        [2.]])\n",
            "torch.Size([3, 1])\n"
          ],
          "name": "stdout"
        }
      ]
    },
    {
      "cell_type": "code",
      "metadata": {
        "id": "U2ccgXiQafes",
        "colab": {
          "base_uri": "https://localhost:8080/"
        },
        "outputId": "e9f02dc9-8913-4878-eaa3-886ae934ce75"
      },
      "source": [
        "ft = torch.FloatTensor([[[0, 1]],[[1,2]],[[2,3]]])\n",
        "print(ft.shape)\n",
        "print(ft.squeeze(dim=1))\n",
        "print(ft.squeeze(dim=1).shape)"
      ],
      "execution_count": null,
      "outputs": [
        {
          "output_type": "stream",
          "text": [
            "torch.Size([3, 1, 2])\n",
            "tensor([[0., 1.],\n",
            "        [1., 2.],\n",
            "        [2., 3.]])\n",
            "torch.Size([3, 2])\n"
          ],
          "name": "stdout"
        }
      ]
    },
    {
      "cell_type": "markdown",
      "metadata": {
        "id": "s7dLd2hfcDrX"
      },
      "source": [
        "#Unsqueeze(dim)"
      ]
    },
    {
      "cell_type": "code",
      "metadata": {
        "id": "p1bGUPXAbAxX",
        "colab": {
          "base_uri": "https://localhost:8080/"
        },
        "outputId": "b8dd779d-e611-493e-f97f-7b9e343a151c"
      },
      "source": [
        "ft = torch.FloatTensor([0,1,2])\n",
        "ft.shape"
      ],
      "execution_count": null,
      "outputs": [
        {
          "output_type": "execute_result",
          "data": {
            "text/plain": [
              "torch.Size([3])"
            ]
          },
          "metadata": {
            "tags": []
          },
          "execution_count": 24
        }
      ]
    },
    {
      "cell_type": "code",
      "metadata": {
        "id": "YHGs4csacJ_-",
        "colab": {
          "base_uri": "https://localhost:8080/"
        },
        "outputId": "fe377fd2-dc01-419f-dfa9-b88536d325c7"
      },
      "source": [
        "print(ft.unsqueeze(dim=0))\n",
        "print(f'unsqueeze(dim=0).shape: {ft.unsqueeze(dim=0).shape}')\n",
        "print(ft.unsqueeze(dim=1))\n",
        "print(f'unsqueeze(dim=1).shape: {ft.unsqueeze(dim=1).shape}')\n",
        "print(ft.unsqueeze(dim=0).unsqueeze(dim=-1))\n",
        "print(f'unsqueeze(dim=-1).shape: {ft.unsqueeze(dim=-1).shape}')"
      ],
      "execution_count": null,
      "outputs": [
        {
          "output_type": "stream",
          "text": [
            "tensor([[0., 1., 2.]])\n",
            "unsqueeze(dim=0).shape: torch.Size([1, 3])\n",
            "tensor([[0.],\n",
            "        [1.],\n",
            "        [2.]])\n",
            "unsqueeze(dim=1).shape: torch.Size([3, 1])\n",
            "tensor([[[0.],\n",
            "         [1.],\n",
            "         [2.]]])\n",
            "unsqueeze(dim=-1).shape: torch.Size([3, 1])\n"
          ],
          "name": "stdout"
        }
      ]
    },
    {
      "cell_type": "markdown",
      "metadata": {
        "id": "eREoekF782qt"
      },
      "source": [
        "# Type Casting"
      ]
    },
    {
      "cell_type": "code",
      "metadata": {
        "id": "NKDXYBKecQuh",
        "colab": {
          "base_uri": "https://localhost:8080/"
        },
        "outputId": "5df73c5e-a2c7-4701-e721-bfb37af37ea2"
      },
      "source": [
        "lt = torch.LongTensor([1,2,3,4])\n",
        "print(lt)\n",
        "print(lt.float())"
      ],
      "execution_count": null,
      "outputs": [
        {
          "output_type": "stream",
          "text": [
            "tensor([1, 2, 3, 4])\n",
            "tensor([1., 2., 3., 4.])\n"
          ],
          "name": "stdout"
        }
      ]
    },
    {
      "cell_type": "code",
      "metadata": {
        "id": "X-i9QWFy9DRN",
        "colab": {
          "base_uri": "https://localhost:8080/"
        },
        "outputId": "6189ebc6-5173-425f-c764-69231865562e"
      },
      "source": [
        "bt = torch.BoolTensor([True, False, False, True])\n",
        "print(bt)\n",
        "print(bt.float())\n",
        "print(bt.long())"
      ],
      "execution_count": null,
      "outputs": [
        {
          "output_type": "stream",
          "text": [
            "tensor([ True, False, False,  True])\n",
            "tensor([1., 0., 0., 1.])\n",
            "tensor([1, 0, 0, 1])\n"
          ],
          "name": "stdout"
        }
      ]
    },
    {
      "cell_type": "code",
      "metadata": {
        "id": "4Fsu5qcz9Ms0",
        "colab": {
          "base_uri": "https://localhost:8080/"
        },
        "outputId": "71bd13a5-806e-45c4-ad08-2dd9b61adc19"
      },
      "source": [
        "bt = lt==3\n",
        "print(bt)\n",
        "print(bt.float())\n",
        "print(bt.long())"
      ],
      "execution_count": null,
      "outputs": [
        {
          "output_type": "stream",
          "text": [
            "tensor([False, False,  True, False])\n",
            "tensor([0., 0., 1., 0.])\n",
            "tensor([0, 0, 1, 0])\n"
          ],
          "name": "stdout"
        }
      ]
    },
    {
      "cell_type": "markdown",
      "metadata": {
        "id": "QjU6PYamHHQY"
      },
      "source": [
        "# Concatenate"
      ]
    },
    {
      "cell_type": "code",
      "metadata": {
        "id": "IQVK7Ok99eMK",
        "colab": {
          "base_uri": "https://localhost:8080/"
        },
        "outputId": "82cbd29a-24b5-40eb-d6b2-1947a7f70b30"
      },
      "source": [
        "m1 = torch.IntTensor([[1,2],[3,4]])\n",
        "m2 = torch.IntTensor([[5,6],[7,8]])\n",
        "print(torch.cat([m1, m2])) # Default dim = 0.\n",
        "print(torch.cat([m1, m2], dim=0)) # concat within dimension 0\n",
        "print(torch.cat([m1, m2], dim=1)) # concat within dimension 1"
      ],
      "execution_count": null,
      "outputs": [
        {
          "output_type": "stream",
          "text": [
            "tensor([[1, 2],\n",
            "        [3, 4],\n",
            "        [5, 6],\n",
            "        [7, 8]], dtype=torch.int32)\n",
            "tensor([[1, 2],\n",
            "        [3, 4],\n",
            "        [5, 6],\n",
            "        [7, 8]], dtype=torch.int32)\n",
            "tensor([[1, 2, 5, 6],\n",
            "        [3, 4, 7, 8]], dtype=torch.int32)\n"
          ],
          "name": "stdout"
        }
      ]
    },
    {
      "cell_type": "markdown",
      "metadata": {
        "id": "o6UxYhLUHgdD"
      },
      "source": [
        "# Stack\n",
        "stack([tensors]) stack tensors along new dimension.\n",
        "If a dimension is given, the new stack extends into that dimension."
      ]
    },
    {
      "cell_type": "code",
      "metadata": {
        "id": "lbM_rlHt-BNo",
        "colab": {
          "base_uri": "https://localhost:8080/"
        },
        "outputId": "5985ae51-1009-4aa0-b8fc-25655827a45f"
      },
      "source": [
        "m1 = torch.IntTensor([1,2])\n",
        "m2 = torch.IntTensor([3,4])\n",
        "m3 = torch.IntTensor([5,6])\n",
        "print(torch.stack([m1, m2, m3]))\n",
        "print(torch.stack([m1, m2, m3], dim=0)) # This is identical to the line below.\n",
        "print(torch.cat([m1.unsqueeze(0), m2.unsqueeze(0), m3.unsqueeze(0)], dim=0))\n",
        "print(torch.stack([m1, m2, m3], dim=1)) # This is identical to the line below.\n",
        "print(torch.cat([m1.unsqueeze(1), m2.unsqueeze(1), m3.unsqueeze(1)], dim=1))"
      ],
      "execution_count": null,
      "outputs": [
        {
          "output_type": "stream",
          "text": [
            "tensor([[1, 2],\n",
            "        [3, 4],\n",
            "        [5, 6]], dtype=torch.int32)\n",
            "tensor([[1, 2],\n",
            "        [3, 4],\n",
            "        [5, 6]], dtype=torch.int32)\n",
            "tensor([[1, 2],\n",
            "        [3, 4],\n",
            "        [5, 6]], dtype=torch.int32)\n",
            "tensor([[1, 3, 5],\n",
            "        [2, 4, 6]], dtype=torch.int32)\n",
            "tensor([[1, 3, 5],\n",
            "        [2, 4, 6]], dtype=torch.int32)\n"
          ],
          "name": "stdout"
        }
      ]
    },
    {
      "cell_type": "markdown",
      "metadata": {
        "id": "96nVS_EGNMLh"
      },
      "source": [
        "unsqueeze(0) makes tensor of [1,2] -> concat dim=0 will make [3,2]."
      ]
    },
    {
      "cell_type": "markdown",
      "metadata": {
        "id": "LHKjjxYJOpAC"
      },
      "source": [
        "# Ones, Zeros"
      ]
    },
    {
      "cell_type": "code",
      "metadata": {
        "id": "S8GWmo-iHukf",
        "colab": {
          "base_uri": "https://localhost:8080/"
        },
        "outputId": "138ba969-d963-49aa-e8fb-cd1b359b2976"
      },
      "source": [
        "m1 = torch.IntTensor([[1,2,5],[3,4,6]])\n",
        "print(torch.zeros_like(m1))\n",
        "print(torch.ones_like(m1))"
      ],
      "execution_count": null,
      "outputs": [
        {
          "output_type": "stream",
          "text": [
            "tensor([[0, 0, 0],\n",
            "        [0, 0, 0]], dtype=torch.int32)\n",
            "tensor([[1, 1, 1],\n",
            "        [1, 1, 1]], dtype=torch.int32)\n"
          ],
          "name": "stdout"
        }
      ]
    },
    {
      "cell_type": "markdown",
      "metadata": {
        "id": "WHN9mrL6QEHg"
      },
      "source": [
        "Tensor shape may vary on the device's gpu.<br>\n",
        "To match tensor shape, use ones_like() and zeros_like()."
      ]
    },
    {
      "cell_type": "markdown",
      "metadata": {
        "id": "UJweBl-CRJNi"
      },
      "source": [
        "# In-Place Operation: postfix _"
      ]
    },
    {
      "cell_type": "code",
      "metadata": {
        "id": "JmezXcSGPDiL",
        "colab": {
          "base_uri": "https://localhost:8080/"
        },
        "outputId": "793a5b69-1814-4884-ae74-f105d0c0a249"
      },
      "source": [
        "m1 = torch.FloatTensor([[1,2],[3,4]])\n",
        "print(m1.mul(2))\n",
        "print(f'm1 = {m1}')\n",
        "print(m1.mul_(2))\n",
        "print(f'm1 = {m1}')\n",
        "print(m1.unsqueeze_(dim=1))\n",
        "print(f'm1 = {m1}')\n",
        "print(m1.squeeze_())\n",
        "print(f'm1 = {m1}')"
      ],
      "execution_count": null,
      "outputs": [
        {
          "output_type": "stream",
          "text": [
            "tensor([[2., 4.],\n",
            "        [6., 8.]])\n",
            "m1 = tensor([[1., 2.],\n",
            "        [3., 4.]])\n",
            "tensor([[2., 4.],\n",
            "        [6., 8.]])\n",
            "m1 = tensor([[2., 4.],\n",
            "        [6., 8.]])\n",
            "tensor([[[2., 4.]],\n",
            "\n",
            "        [[6., 8.]]])\n",
            "m1 = tensor([[[2., 4.]],\n",
            "\n",
            "        [[6., 8.]]])\n",
            "tensor([[2., 4.],\n",
            "        [6., 8.]])\n",
            "m1 = tensor([[2., 4.],\n",
            "        [6., 8.]])\n"
          ],
          "name": "stdout"
        }
      ]
    },
    {
      "cell_type": "code",
      "metadata": {
        "id": "xh3CCJ6oS2RL"
      },
      "source": [
        ""
      ],
      "execution_count": null,
      "outputs": []
    }
  ]
}